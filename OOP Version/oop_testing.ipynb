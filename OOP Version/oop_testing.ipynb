{
 "cells": [
  {
   "cell_type": "code",
   "execution_count": 19,
   "metadata": {},
   "outputs": [],
   "source": [
    "import numpy as np\n",
    "\n",
    "from astropy import units as u\n",
    "\n",
    "import plotly.graph_objects as go\n",
    "\n",
    "import lightkurve as lk\n",
    "\n",
    "import itertools \n",
    "\n",
    "from wotan import slide_clip\n",
    "from wotan import flatten\n",
    "from wotan import t14\n",
    "\n",
    "from transitleastsquares import cleaned_array\n",
    "from transitleastsquares import transitleastsquares\n",
    "from transitleastsquares import catalog_info\n",
    "from detecta import detect_peaks"
   ]
  },
  {
   "cell_type": "code",
   "execution_count": 10,
   "metadata": {},
   "outputs": [],
   "source": [
    "search_result_1 = lk.search_lightcurve(\"KIC 4840672\")\n",
    "lc_collection_1 = search_result_1[search_result_1.author == \"Kepler\"].download_all()"
   ]
  },
  {
   "cell_type": "code",
   "execution_count": 22,
   "metadata": {},
   "outputs": [
    {
     "name": "stdout",
     "output_type": "stream",
     "text": [
      "<class 'lightkurve.collections.LightCurveCollection'> <class 'lightkurve.lightcurve.KeplerLightCurve'>\n"
     ]
    }
   ],
   "source": [
    "print(type(lc_collection_1), type(lc_collection_1[0]))"
   ]
  },
  {
   "cell_type": "code",
   "execution_count": 20,
   "metadata": {},
   "outputs": [],
   "source": [
    "lc_collection_1.stellar_properties=catalog_info(KIC_ID=int(lc_collection_1[0].meta['KEPLERID']))"
   ]
  },
  {
   "cell_type": "code",
   "execution_count": 59,
   "metadata": {},
   "outputs": [],
   "source": [
    "class lightcurve_coll(lk.collections.LightCurveCollection):\n",
    "    def __init__(self, lc_coll):\n",
    "        super(lk.collections.LightCurveCollection, self).__init__(lc_coll)\n",
    "\n",
    "        stellar_properties=catalog_info(KIC_ID=int(lc_coll[0].meta['KEPLERID']))\n",
    "        self.mass=float(stellar_properties[1])\n",
    "        self.radius=float(stellar_properties[4])\n",
    "        \n",
    "        \n",
    "        stitched=self.stitch()\n",
    "        quality_index = np.where(stitched['quality'] == 0)[0]\n",
    "        stitched=stitched[quality_index]\n",
    "        lc=stitched.flatten(window_length=901).remove_outliers(sigma_lower=np.Inf, sigma_upper=2)\n",
    "        period_guess = np.linspace(1, 150, 20000)\n",
    "        pg = lc.to_periodogram(method='bls', period=period_guess, frequency_factor=700)\n",
    "        period = float(pg.period_at_max_power/u.d)\n",
    "        tdur = t14(R_s=self.radius, M_s=self.mass, P=period, small_planet=True)\n",
    "        window_leng=3*tdur\n",
    "        \n",
    "        \n",
    "        self.wl=window_leng\n",
    "        self.wl_period=period\n",
    "      \n",
    "            \n",
    "        self.wl_lc=lc\n",
    "        \n",
    "    \n"
   ]
  },
  {
   "cell_type": "code",
   "execution_count": 60,
   "metadata": {},
   "outputs": [],
   "source": [
    "test1=lightcurve_coll(lc_collection_1)"
   ]
  },
  {
   "cell_type": "code",
   "execution_count": 57,
   "metadata": {},
   "outputs": [
    {
     "data": {
      "text/plain": [
       "0.5960000157356262"
      ]
     },
     "execution_count": 57,
     "metadata": {},
     "output_type": "execute_result"
    }
   ],
   "source": [
    "test1.mass\n",
    "test1.radius"
   ]
  },
  {
   "cell_type": "code",
   "execution_count": 58,
   "metadata": {},
   "outputs": [],
   "source": [
    "test1.window_len(return_lc=False)"
   ]
  },
  {
   "cell_type": "code",
   "execution_count": 62,
   "metadata": {},
   "outputs": [
    {
     "data": {
      "text/html": [
       "<div><i>KeplerLightCurve length=45888 LABEL=&quot;KIC 4840672&quot; QUARTER=17 AUTHOR=Kepler FLUX_ORIGIN=pdcsap_flux</i>\n",
       "<table id=\"table140442562157584\" class=\"table-striped table-bordered table-condensed\">\n",
       "<thead><tr><th>time</th><th>flux</th><th>flux_err</th><th>quality</th><th>timecorr</th><th>centroid_col</th><th>centroid_row</th><th>cadenceno</th><th>sap_flux</th><th>sap_flux_err</th><th>sap_bkg</th><th>sap_bkg_err</th><th>pdcsap_flux</th><th>pdcsap_flux_err</th><th>sap_quality</th><th>psf_centr1</th><th>psf_centr1_err</th><th>psf_centr2</th><th>psf_centr2_err</th><th>mom_centr1</th><th>mom_centr1_err</th><th>mom_centr2</th><th>mom_centr2_err</th><th>pos_corr1</th><th>pos_corr2</th></tr></thead>\n",
       "<thead><tr><th></th><th></th><th></th><th></th><th>d</th><th>pix</th><th>pix</th><th></th><th>electron / s</th><th>electron / s</th><th>electron / s</th><th>electron / s</th><th>electron / s</th><th>electron / s</th><th></th><th>pix</th><th>pix</th><th>pix</th><th>pix</th><th>pix</th><th>pix</th><th>pix</th><th>pix</th><th>pix</th><th>pix</th></tr></thead>\n",
       "<thead><tr><th>Time</th><th>float64</th><th>float64</th><th>int32</th><th>float32</th><th>float64</th><th>float64</th><th>int32</th><th>float32</th><th>float32</th><th>float32</th><th>float32</th><th>float32</th><th>float32</th><th>int32</th><th>float64</th><th>float32</th><th>float64</th><th>float32</th><th>float64</th><th>float32</th><th>float64</th><th>float32</th><th>float32</th><th>float32</th></tr></thead>\n",
       "<tr><td>131.51240196308936</td><td>1.0010692e+00</td><td>4.6094491e-04</td><td>0</td><td>1.408143e-03</td><td>383.13934</td><td>312.55242</td><td>1105</td><td>5.2593447e+03</td><td>2.4440820e+00</td><td>3.4708600e+02</td><td>1.0088471e-01</td><td>7.6917827e+03</td><td>3.5417016e+00</td><td>0</td><td>———</td><td>———</td><td>———</td><td>———</td><td>383.13934</td><td>3.6344884e-04</td><td>312.55242</td><td>2.5682544e-04</td><td>9.0776747e-03</td><td>-4.1715618e-02</td></tr>\n",
       "<tr><td>131.5328366199028</td><td>1.0016155e+00</td><td>4.6129877e-04</td><td>0</td><td>1.409100e-03</td><td>383.13876</td><td>312.55305</td><td>1106</td><td>5.2646748e+03</td><td>2.4447544e+00</td><td>3.4733621e+02</td><td>1.0084715e-01</td><td>7.6959810e+03</td><td>3.5444205e+00</td><td>0</td><td>———</td><td>———</td><td>———</td><td>———</td><td>383.13876</td><td>3.6338420e-04</td><td>312.55305</td><td>2.5676336e-04</td><td>9.0881726e-03</td><td>-4.1500472e-02</td></tr>\n",
       "<tr><td>131.55327117648994</td><td>1.0013910e+00</td><td>4.6126171e-04</td><td>0</td><td>1.410056e-03</td><td>383.13936</td><td>312.55250</td><td>1107</td><td>5.2636416e+03</td><td>2.4445834e+00</td><td>3.4727063e+02</td><td>1.0094051e-01</td><td>7.6942554e+03</td><td>3.5441358e+00</td><td>0</td><td>———</td><td>———</td><td>———</td><td>———</td><td>383.13936</td><td>3.6321729e-04</td><td>312.55250</td><td>2.5664648e-04</td><td>8.9672692e-03</td><td>-4.1346982e-02</td></tr>\n",
       "<tr><td>131.57370563306904</td><td>1.0015259e+00</td><td>4.6140185e-04</td><td>0</td><td>1.411013e-03</td><td>383.13960</td><td>312.55255</td><td>1108</td><td>5.2641406e+03</td><td>2.4446614e+00</td><td>3.4706705e+02</td><td>1.0079391e-01</td><td>7.6952925e+03</td><td>3.5452125e+00</td><td>0</td><td>———</td><td>———</td><td>———</td><td>———</td><td>383.13960</td><td>3.6329808e-04</td><td>312.55255</td><td>2.5667142e-04</td><td>8.7374439e-03</td><td>-4.1336384e-02</td></tr>\n",
       "<tr><td>131.59414018965617</td><td>1.0010363e+00</td><td>4.6126716e-04</td><td>0</td><td>1.411970e-03</td><td>383.13928</td><td>312.55247</td><td>1109</td><td>5.2606289e+03</td><td>2.4441779e+00</td><td>3.4729874e+02</td><td>1.0081837e-01</td><td>7.6915303e+03</td><td>3.5441775e+00</td><td>0</td><td>———</td><td>———</td><td>———</td><td>———</td><td>383.13928</td><td>3.6335408e-04</td><td>312.55247</td><td>2.5675929e-04</td><td>8.8381814e-03</td><td>-4.1683424e-02</td></tr>\n",
       "<tr><td>131.61457484612765</td><td>1.0009363e+00</td><td>4.6132209e-04</td><td>0</td><td>1.412926e-03</td><td>383.13963</td><td>312.55317</td><td>1110</td><td>5.2595791e+03</td><td>2.4440963e+00</td><td>3.4763492e+02</td><td>1.0077314e-01</td><td>7.6907622e+03</td><td>3.5445995e+00</td><td>0</td><td>———</td><td>———</td><td>———</td><td>———</td><td>383.13963</td><td>3.6350836e-04</td><td>312.55317</td><td>2.5682620e-04</td><td>8.8688750e-03</td><td>-4.1656967e-02</td></tr>\n",
       "<tr><td>131.6350093024812</td><td>1.0010699e+00</td><td>4.6145751e-04</td><td>0</td><td>1.413882e-03</td><td>383.14009</td><td>312.55249</td><td>1111</td><td>5.2601133e+03</td><td>2.4441595e+00</td><td>3.4743008e+02</td><td>1.0083368e-01</td><td>7.6917886e+03</td><td>3.5456400e+00</td><td>0</td><td>———</td><td>———</td><td>———</td><td>———</td><td>383.14009</td><td>3.6333539e-04</td><td>312.55249</td><td>2.5671266e-04</td><td>8.9300554e-03</td><td>-4.1637775e-02</td></tr>\n",
       "<tr><td>131.6554438587118</td><td>1.0008240e+00</td><td>4.6129979e-04</td><td>0</td><td>1.414839e-03</td><td>383.13930</td><td>312.55247</td><td>1112</td><td>5.2581855e+03</td><td>2.4439130e+00</td><td>3.4746689e+02</td><td>1.0074146e-01</td><td>7.6898994e+03</td><td>3.5444283e+00</td><td>0</td><td>———</td><td>———</td><td>———</td><td>———</td><td>383.13930</td><td>3.6342334e-04</td><td>312.55247</td><td>2.5679090e-04</td><td>9.1093248e-03</td><td>-4.1698195e-02</td></tr>\n",
       "<tr><td>131.67587851495045</td><td>1.0005939e+00</td><td>4.6153814e-04</td><td>0</td><td>1.415795e-03</td><td>383.13958</td><td>312.55274</td><td>1113</td><td>5.2572930e+03</td><td>2.4437079e+00</td><td>3.4699252e+02</td><td>1.0082822e-01</td><td>7.6881309e+03</td><td>3.5462596e+00</td><td>0</td><td>———</td><td>———</td><td>———</td><td>———</td><td>383.13958</td><td>3.6335416e-04</td><td>312.55274</td><td>2.5673097e-04</td><td>8.9055542e-03</td><td>-4.1606031e-02</td></tr>\n",
       "<tr><td>...</td><td>...</td><td>...</td><td>...</td><td>...</td><td>...</td><td>...</td><td>...</td><td>...</td><td>...</td><td>...</td><td>...</td><td>...</td><td>...</td><td>...</td><td>...</td><td>...</td><td>...</td><td>...</td><td>...</td><td>...</td><td>...</td><td>...</td><td>...</td><td>...</td></tr>\n",
       "<tr><td>1590.817385757764</td><td>1.0010978e+00</td><td>4.6749210e-04</td><td>0</td><td>1.360378e-04</td><td>383.13558</td><td>312.55515</td><td>72522</td><td>5.1984814e+03</td><td>2.4425027e+00</td><td>3.8900479e+02</td><td>1.0188515e-01</td><td>7.6143462e+03</td><td>3.5557432e+00</td><td>0</td><td>———</td><td>———</td><td>———</td><td>———</td><td>383.13558</td><td>3.7034735e-04</td><td>312.55515</td><td>2.6187880e-04</td><td>8.6683063e-03</td><td>-1.6841754e-02</td></tr>\n",
       "<tr><td>1590.837820416491</td><td>1.0015590e+00</td><td>4.6744918e-04</td><td>0</td><td>1.369965e-04</td><td>383.13610</td><td>312.55515</td><td>72523</td><td>5.1998145e+03</td><td>2.4426739e+00</td><td>3.8903314e+02</td><td>1.0196872e-01</td><td>7.6178545e+03</td><td>3.5554168e+00</td><td>0</td><td>———</td><td>———</td><td>———</td><td>———</td><td>383.13610</td><td>3.7021740e-04</td><td>312.55515</td><td>2.6180709e-04</td><td>8.5885078e-03</td><td>-1.6943818e-02</td></tr>\n",
       "<tr><td>1590.8582548752674</td><td>1.0008747e+00</td><td>4.6732859e-04</td><td>0</td><td>1.379553e-04</td><td>383.13618</td><td>312.55522</td><td>72524</td><td>5.1940977e+03</td><td>2.4418807e+00</td><td>3.8869815e+02</td><td>1.0196479e-01</td><td>7.6126499e+03</td><td>3.5544996e+00</td><td>0</td><td>———</td><td>———</td><td>———</td><td>———</td><td>383.13618</td><td>3.7032517e-04</td><td>312.55522</td><td>2.6190808e-04</td><td>8.5066650e-03</td><td>-1.6963707e-02</td></tr>\n",
       "<tr><td>1590.8786894341247</td><td>1.0013451e+00</td><td>4.6728381e-04</td><td>0</td><td>1.389141e-04</td><td>383.13579</td><td>312.55517</td><td>72525</td><td>5.1971855e+03</td><td>2.4423752e+00</td><td>3.8902539e+02</td><td>1.0192896e-01</td><td>7.6162271e+03</td><td>3.5541589e+00</td><td>0</td><td>———</td><td>———</td><td>———</td><td>———</td><td>383.13579</td><td>3.7029662e-04</td><td>312.55517</td><td>2.6191850e-04</td><td>8.8355634e-03</td><td>-1.6926397e-02</td></tr>\n",
       "<tr><td>1590.89912409307</td><td>1.0012743e+00</td><td>4.6719218e-04</td><td>0</td><td>1.398731e-04</td><td>383.13641</td><td>312.55510</td><td>72526</td><td>5.1976621e+03</td><td>2.4423740e+00</td><td>3.8904840e+02</td><td>1.0194766e-01</td><td>7.6156885e+03</td><td>3.5534620e+00</td><td>0</td><td>———</td><td>———</td><td>———</td><td>———</td><td>383.13641</td><td>3.7043585e-04</td><td>312.55510</td><td>2.6196771e-04</td><td>8.6927032e-03</td><td>-1.7030763e-02</td></tr>\n",
       "<tr><td>1590.9195585520356</td><td>1.0019591e+00</td><td>4.6749248e-04</td><td>0</td><td>1.408320e-04</td><td>383.13606</td><td>312.55501</td><td>72527</td><td>5.2006221e+03</td><td>2.4427705e+00</td><td>3.8921585e+02</td><td>1.0192262e-01</td><td>7.6208975e+03</td><td>3.5557461e+00</td><td>0</td><td>———</td><td>———</td><td>———</td><td>———</td><td>383.13606</td><td>3.7026964e-04</td><td>312.55501</td><td>2.6188628e-04</td><td>8.5267629e-03</td><td>-1.6831070e-02</td></tr>\n",
       "<tr><td>1590.9399932111264</td><td>1.0014538e+00</td><td>4.6738212e-04</td><td>0</td><td>1.417911e-04</td><td>383.13521</td><td>312.55572</td><td>72528</td><td>5.1991582e+03</td><td>2.4426610e+00</td><td>3.8895401e+02</td><td>1.0195781e-01</td><td>7.6170537e+03</td><td>3.5549066e+00</td><td>0</td><td>———</td><td>———</td><td>———</td><td>———</td><td>383.13521</td><td>3.7017322e-04</td><td>312.55572</td><td>2.6183651e-04</td><td>8.7377811e-03</td><td>-1.6877750e-02</td></tr>\n",
       "<tr><td>1590.9604277702601</td><td>1.0016282e+00</td><td>4.6747439e-04</td><td>0</td><td>1.427503e-04</td><td>383.13628</td><td>312.55539</td><td>72529</td><td>5.1985981e+03</td><td>2.4424860e+00</td><td>3.8874496e+02</td><td>1.0186220e-01</td><td>7.6183809e+03</td><td>3.5556085e+00</td><td>0</td><td>———</td><td>———</td><td>———</td><td>———</td><td>383.13628</td><td>3.7019272e-04</td><td>312.55539</td><td>2.6179626e-04</td><td>8.6028567e-03</td><td>-1.6943922e-02</td></tr>\n",
       "<tr><td>1590.9808622294586</td><td>9.9525414e-01</td><td>4.6610413e-04</td><td>0</td><td>1.437095e-04</td><td>383.13530</td><td>312.55547</td><td>72530</td><td>5.1903057e+03</td><td>2.4414394e+00</td><td>3.8914218e+02</td><td>1.0199197e-01</td><td>7.5698994e+03</td><td>3.5451863e+00</td><td>0</td><td>———</td><td>———</td><td>———</td><td>———</td><td>383.13530</td><td>3.7058306e-04</td><td>312.55547</td><td>2.6213488e-04</td><td>1.0374903e-02</td><td>-1.7454514e-02</td></tr>\n",
       "<tr><td>1591.0012968887386</td><td>1.0006932e+00</td><td>4.6656093e-04</td><td>0</td><td>1.446687e-04</td><td>383.13446</td><td>312.55556</td><td>72531</td><td>5.1933330e+03</td><td>2.4418097e+00</td><td>3.8876138e+02</td><td>1.0191863e-01</td><td>7.6112686e+03</td><td>3.5486608e+00</td><td>0</td><td>———</td><td>———</td><td>———</td><td>———</td><td>383.13446</td><td>3.7050701e-04</td><td>312.55556</td><td>2.6207766e-04</td><td>9.1633797e-03</td><td>-1.6958240e-02</td></tr>\n",
       "</table></div>"
      ],
      "text/plain": [
       "<KeplerLightCurve length=45888 LABEL=\"KIC 4840672\" QUARTER=17 AUTHOR=Kepler FLUX_ORIGIN=pdcsap_flux>\n",
       "       time             flux      ...   pos_corr1      pos_corr2   \n",
       "                                  ...      pix            pix      \n",
       "       Time           float64     ...    float32        float32    \n",
       "------------------ -------------- ... -------------- --------------\n",
       "131.51240196308936  1.0010692e+00 ...  9.0776747e-03 -4.1715618e-02\n",
       " 131.5328366199028  1.0016155e+00 ...  9.0881726e-03 -4.1500472e-02\n",
       "131.55327117648994  1.0013910e+00 ...  8.9672692e-03 -4.1346982e-02\n",
       "131.57370563306904  1.0015259e+00 ...  8.7374439e-03 -4.1336384e-02\n",
       "131.59414018965617  1.0010363e+00 ...  8.8381814e-03 -4.1683424e-02\n",
       "131.61457484612765  1.0009363e+00 ...  8.8688750e-03 -4.1656967e-02\n",
       " 131.6350093024812  1.0010699e+00 ...  8.9300554e-03 -4.1637775e-02\n",
       " 131.6554438587118  1.0008240e+00 ...  9.1093248e-03 -4.1698195e-02\n",
       "131.67587851495045  1.0005939e+00 ...  8.9055542e-03 -4.1606031e-02\n",
       "               ...            ... ...            ...            ...\n",
       " 1590.817385757764  1.0010978e+00 ...  8.6683063e-03 -1.6841754e-02\n",
       " 1590.837820416491  1.0015590e+00 ...  8.5885078e-03 -1.6943818e-02\n",
       "1590.8582548752674  1.0008747e+00 ...  8.5066650e-03 -1.6963707e-02\n",
       "1590.8786894341247  1.0013451e+00 ...  8.8355634e-03 -1.6926397e-02\n",
       "  1590.89912409307  1.0012743e+00 ...  8.6927032e-03 -1.7030763e-02\n",
       "1590.9195585520356  1.0019591e+00 ...  8.5267629e-03 -1.6831070e-02\n",
       "1590.9399932111264  1.0014538e+00 ...  8.7377811e-03 -1.6877750e-02\n",
       "1590.9604277702601  1.0016282e+00 ...  8.6028567e-03 -1.6943922e-02\n",
       "1590.9808622294586  9.9525414e-01 ...  1.0374903e-02 -1.7454514e-02\n",
       "1591.0012968887386  1.0006932e+00 ...  9.1633797e-03 -1.6958240e-02"
      ]
     },
     "execution_count": 62,
     "metadata": {},
     "output_type": "execute_result"
    }
   ],
   "source": [
    "test1.wl_lc"
   ]
  },
  {
   "cell_type": "code",
   "execution_count": 32,
   "metadata": {},
   "outputs": [
    {
     "data": {
      "text/html": [
       "<div><i>KeplerLightCurve length=5 LABEL=&quot;KIC 4840672&quot; QUARTER=1 AUTHOR=Kepler FLUX_ORIGIN=pdcsap_flux</i>\n",
       "<table id=\"table140442537904928\" class=\"table-striped table-bordered table-condensed\">\n",
       "<thead><tr><th>time</th><th>flux</th><th>flux_err</th><th>quality</th><th>timecorr</th><th>centroid_col</th><th>centroid_row</th><th>cadenceno</th><th>sap_flux</th><th>sap_flux_err</th><th>sap_bkg</th><th>sap_bkg_err</th><th>pdcsap_flux</th><th>pdcsap_flux_err</th><th>sap_quality</th><th>psf_centr1</th><th>psf_centr1_err</th><th>psf_centr2</th><th>psf_centr2_err</th><th>mom_centr1</th><th>mom_centr1_err</th><th>mom_centr2</th><th>mom_centr2_err</th><th>pos_corr1</th><th>pos_corr2</th></tr></thead>\n",
       "<thead><tr><th></th><th>electron / s</th><th>electron / s</th><th></th><th>d</th><th>pix</th><th>pix</th><th></th><th>electron / s</th><th>electron / s</th><th>electron / s</th><th>electron / s</th><th>electron / s</th><th>electron / s</th><th></th><th>pix</th><th>pix</th><th>pix</th><th>pix</th><th>pix</th><th>pix</th><th>pix</th><th>pix</th><th>pix</th><th>pix</th></tr></thead>\n",
       "<thead><tr><th>Time</th><th>float32</th><th>float32</th><th>int32</th><th>float32</th><th>float64</th><th>float64</th><th>int32</th><th>float32</th><th>float32</th><th>float32</th><th>float32</th><th>float32</th><th>float32</th><th>int32</th><th>float64</th><th>float32</th><th>float64</th><th>float32</th><th>float64</th><th>float32</th><th>float64</th><th>float32</th><th>float32</th><th>float32</th></tr></thead>\n",
       "<tr><td>131.51240196308936</td><td>7.6917827e+03</td><td>3.5417016e+00</td><td>0</td><td>1.408143e-03</td><td>383.13934</td><td>312.55242</td><td>1105</td><td>5.2593447e+03</td><td>2.4440820e+00</td><td>3.4708600e+02</td><td>1.0088471e-01</td><td>7.6917827e+03</td><td>3.5417016e+00</td><td>0</td><td>———</td><td>———</td><td>———</td><td>———</td><td>383.13934</td><td>3.6344884e-04</td><td>312.55242</td><td>2.5682544e-04</td><td>9.0776747e-03</td><td>-4.1715618e-02</td></tr>\n",
       "<tr><td>131.5328366199028</td><td>7.6959810e+03</td><td>3.5444205e+00</td><td>0</td><td>1.409100e-03</td><td>383.13876</td><td>312.55305</td><td>1106</td><td>5.2646748e+03</td><td>2.4447544e+00</td><td>3.4733621e+02</td><td>1.0084715e-01</td><td>7.6959810e+03</td><td>3.5444205e+00</td><td>0</td><td>———</td><td>———</td><td>———</td><td>———</td><td>383.13876</td><td>3.6338420e-04</td><td>312.55305</td><td>2.5676336e-04</td><td>9.0881726e-03</td><td>-4.1500472e-02</td></tr>\n",
       "<tr><td>131.55327117648994</td><td>7.6942554e+03</td><td>3.5441358e+00</td><td>0</td><td>1.410056e-03</td><td>383.13936</td><td>312.55250</td><td>1107</td><td>5.2636416e+03</td><td>2.4445834e+00</td><td>3.4727063e+02</td><td>1.0094051e-01</td><td>7.6942554e+03</td><td>3.5441358e+00</td><td>0</td><td>———</td><td>———</td><td>———</td><td>———</td><td>383.13936</td><td>3.6321729e-04</td><td>312.55250</td><td>2.5664648e-04</td><td>8.9672692e-03</td><td>-4.1346982e-02</td></tr>\n",
       "<tr><td>131.57370563306904</td><td>7.6952925e+03</td><td>3.5452125e+00</td><td>0</td><td>1.411013e-03</td><td>383.13960</td><td>312.55255</td><td>1108</td><td>5.2641406e+03</td><td>2.4446614e+00</td><td>3.4706705e+02</td><td>1.0079391e-01</td><td>7.6952925e+03</td><td>3.5452125e+00</td><td>0</td><td>———</td><td>———</td><td>———</td><td>———</td><td>383.13960</td><td>3.6329808e-04</td><td>312.55255</td><td>2.5667142e-04</td><td>8.7374439e-03</td><td>-4.1336384e-02</td></tr>\n",
       "<tr><td>131.59414018965617</td><td>7.6915303e+03</td><td>3.5441775e+00</td><td>0</td><td>1.411970e-03</td><td>383.13928</td><td>312.55247</td><td>1109</td><td>5.2606289e+03</td><td>2.4441779e+00</td><td>3.4729874e+02</td><td>1.0081837e-01</td><td>7.6915303e+03</td><td>3.5441775e+00</td><td>0</td><td>———</td><td>———</td><td>———</td><td>———</td><td>383.13928</td><td>3.6335408e-04</td><td>312.55247</td><td>2.5675929e-04</td><td>8.8381814e-03</td><td>-4.1683424e-02</td></tr>\n",
       "</table></div>"
      ],
      "text/plain": [
       "<KeplerLightCurve length=5 LABEL=\"KIC 4840672\" QUARTER=1 AUTHOR=Kepler FLUX_ORIGIN=pdcsap_flux>\n",
       "       time             flux      ...   pos_corr1      pos_corr2   \n",
       "                    electron / s  ...      pix            pix      \n",
       "       Time           float32     ...    float32        float32    \n",
       "------------------ -------------- ... -------------- --------------\n",
       "131.51240196308936  7.6917827e+03 ...  9.0776747e-03 -4.1715618e-02\n",
       " 131.5328366199028  7.6959810e+03 ...  9.0881726e-03 -4.1500472e-02\n",
       "131.55327117648994  7.6942554e+03 ...  8.9672692e-03 -4.1346982e-02\n",
       "131.57370563306904  7.6952925e+03 ...  8.7374439e-03 -4.1336384e-02\n",
       "131.59414018965617  7.6915303e+03 ...  8.8381814e-03 -4.1683424e-02"
      ]
     },
     "execution_count": 32,
     "metadata": {},
     "output_type": "execute_result"
    }
   ],
   "source": [
    "test1[0].head()"
   ]
  }
 ],
 "metadata": {
  "kernelspec": {
   "display_name": "Python 3",
   "language": "python",
   "name": "python3"
  },
  "language_info": {
   "codemirror_mode": {
    "name": "ipython",
    "version": 3
   },
   "file_extension": ".py",
   "mimetype": "text/x-python",
   "name": "python",
   "nbconvert_exporter": "python",
   "pygments_lexer": "ipython3",
   "version": "3.9.18"
  },
  "orig_nbformat": 4
 },
 "nbformat": 4,
 "nbformat_minor": 2
}
