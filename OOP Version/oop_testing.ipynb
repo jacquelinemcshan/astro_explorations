{
 "cells": [
  {
   "cell_type": "code",
   "execution_count": 19,
   "metadata": {},
   "outputs": [],
   "source": [
    "import numpy as np\n",
    "\n",
    "from astropy import units as u\n",
    "\n",
    "import plotly.graph_objects as go\n",
    "\n",
    "import lightkurve as lk\n",
    "\n",
    "import itertools \n",
    "\n",
    "from wotan import slide_clip\n",
    "from wotan import flatten\n",
    "from wotan import t14\n",
    "\n",
    "from transitleastsquares import cleaned_array\n",
    "from transitleastsquares import transitleastsquares\n",
    "from transitleastsquares import catalog_info\n",
    "from detecta import detect_peaks"
   ]
  },
  {
   "cell_type": "code",
   "execution_count": 10,
   "metadata": {},
   "outputs": [],
   "source": [
    "search_result_1 = lk.search_lightcurve(\"KIC 4840672\")\n",
    "lc_collection_1 = search_result_1[search_result_1.author == \"Kepler\"].download_all()"
   ]
  },
  {
   "cell_type": "code",
   "execution_count": 22,
   "metadata": {},
   "outputs": [
    {
     "name": "stdout",
     "output_type": "stream",
     "text": [
      "<class 'lightkurve.collections.LightCurveCollection'> <class 'lightkurve.lightcurve.KeplerLightCurve'>\n"
     ]
    }
   ],
   "source": [
    "print(type(lc_collection_1), type(lc_collection_1[0]))"
   ]
  },
  {
   "cell_type": "code",
   "execution_count": 20,
   "metadata": {},
   "outputs": [],
   "source": [
    "lc_collection_1.stellar_properties=catalog_info(KIC_ID=int(lc_collection_1[0].meta['KEPLERID']))"
   ]
  },
  {
   "cell_type": "code",
   "execution_count": 26,
   "metadata": {},
   "outputs": [],
   "source": [
    "class lightcurve_data(lk.collections.LightCurveCollection):\n",
    "    def __init__(self, lc_data):\n",
    "        super(lk.collections.LightCurveCollection, self).__init__(lc_data)\n",
    "\n",
    "        stellar_properties=catalog_info(KIC_ID=int(lc_data[0].meta['KEPLERID']))\n",
    "        self.mass=float(stellar_properties[1])\n",
    "        self.radius=float(stellar_properties[4])"
   ]
  },
  {
   "cell_type": "code",
   "execution_count": 28,
   "metadata": {},
   "outputs": [],
   "source": [
    "test1=lightcurve_data(lc_collection_1)"
   ]
  },
  {
   "cell_type": "code",
   "execution_count": 29,
   "metadata": {},
   "outputs": [
    {
     "data": {
      "text/plain": [
       "0.6179999709129333"
      ]
     },
     "execution_count": 29,
     "metadata": {},
     "output_type": "execute_result"
    }
   ],
   "source": [
    "test1.mass"
   ]
  }
 ],
 "metadata": {
  "kernelspec": {
   "display_name": "Python 3",
   "language": "python",
   "name": "python3"
  },
  "language_info": {
   "codemirror_mode": {
    "name": "ipython",
    "version": 3
   },
   "file_extension": ".py",
   "mimetype": "text/x-python",
   "name": "python",
   "nbconvert_exporter": "python",
   "pygments_lexer": "ipython3",
   "version": "3.9.18"
  },
  "orig_nbformat": 4
 },
 "nbformat": 4,
 "nbformat_minor": 2
}
