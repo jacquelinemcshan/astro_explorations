{
 "cells": [
  {
   "cell_type": "markdown",
   "metadata": {},
   "source": [
    "## Setup"
   ]
  },
  {
   "cell_type": "markdown",
   "metadata": {},
   "source": [
    "### Libraries"
   ]
  },
  {
   "cell_type": "code",
   "execution_count": 2,
   "metadata": {},
   "outputs": [
    {
     "name": "stderr",
     "output_type": "stream",
     "text": [
      "/Users/jacquelinemcshan/miniconda3/lib/python3.9/site-packages/lightkurve/config/__init__.py:119: UserWarning: The default Lightkurve cache directory, used by download(), etc., has been moved to /Users/jacquelinemcshan/.lightkurve/cache. Please move all the files in the legacy directory /Users/jacquelinemcshan/.lightkurve-cache to the new location and remove the legacy directory. Refer to https://docs.lightkurve.org/reference/config.html#default-cache-directory-migration for more information.\n",
      "  warnings.warn(\n"
     ]
    }
   ],
   "source": [
    "import numpy as np\n",
    "import pandas as pd\n",
    "\n",
    "import astropy\n",
    "\n",
    "from astropy.timeseries import TimeSeries\n",
    "from astropy.table import Table\n",
    "from astropy import units as u\n",
    "import plotly.graph_objects as go\n",
    "\n",
    "import lightkurve as lk\n",
    "\n",
    "import itertools \n",
    "\n",
    "from wotan import slide_clip\n",
    "from wotan import flatten\n",
    "from transitleastsquares import cleaned_array\n",
    "from transitleastsquares import transitleastsquares"
   ]
  },
  {
   "cell_type": "markdown",
   "metadata": {},
   "source": [
    "## Data\n",
    "For my senior experience project, I analysed  KIC 4840672, KIC 8162789, KIC 8631751, and KIC 11100170.  I am going to re-analyse these four candidates with better methods and then graph my results using plotly. The end goal is to put this up on my website. \n"
   ]
  },
  {
   "cell_type": "markdown",
   "metadata": {},
   "source": [
    "### Downloading the Data"
   ]
  },
  {
   "cell_type": "code",
   "execution_count": 3,
   "metadata": {},
   "outputs": [],
   "source": [
    "search_result_1 = lk.search_lightcurve(\"KIC 4840672\")\n",
    "lc_collection_1 = search_result_1[search_result_1.author == \"Kepler\"].download_all()"
   ]
  },
  {
   "cell_type": "markdown",
   "metadata": {},
   "source": [
    "### My Functions (makes things easier)"
   ]
  },
  {
   "cell_type": "code",
   "execution_count": 4,
   "metadata": {},
   "outputs": [],
   "source": [
    "def lightcurve_data(data, window_length=0.5):\n",
    "\n",
    "    SAP=[]\n",
    "    PDCSAP=[]\n",
    "    norm=[]\n",
    "    time=[]\n",
    "\n",
    "    for x in range(0, len(data)-1):\n",
    "        sap_ind=data[x]['sap_flux'].to_value().tolist()\n",
    "        pdcsap_ind=data[x]['flux'].to_value().tolist() # source of the flux in the table is PDCSAP FLUX\n",
    "        norm_ind=data[x].normalize()['flux'].to_value().tolist()\n",
    "        time_ind=data[x]['time'].to_value('bkjd').tolist()\n",
    "\n",
    "        SAP.append(sap_ind)\n",
    "        PDCSAP.append(pdcsap_ind)\n",
    "        norm.append(norm_ind)\n",
    "        time.append(time_ind)\n",
    "    \n",
    "    stitched=lc_collection.stitch()\n",
    "    quality_index = np.where(stitched['quality'] == 0)[0]\n",
    "    stitched=stitched[quality_index]\n",
    "   \n",
    "    stitched_flux=stitched['pdcsap_flux'].to_value().tolist() \n",
    "    stitched_time=stitched['time'].to_value('bkjd').tolist()\n",
    "\n",
    "\n",
    "    clipped_flux = slide_clip(stitched_time, stitched_flux,\n",
    "    window_length=window_length,\n",
    "    low=3,\n",
    "    high=2,\n",
    "    method='mad',  # mad or std\n",
    "    center='median'  # median or mean\n",
    "    )\n",
    "    \n",
    "    flatten_lc=flatten( \n",
    "        stitched_time*u.day,                 # Array of time values\n",
    "        clipped_flux,                 # Array of flux values\n",
    "        window_length=window_length, method='biweight', return_trend=False)\n",
    "    detrended_time, detrended_flux= cleaned_array(stitched_time, flatten_lc)\n",
    "\n",
    "    return(PDCSAP, SAP, norm, time, detrended_flux, detrended_time, stitched) \n"
   ]
  },
  {
   "cell_type": "code",
   "execution_count": 5,
   "metadata": {},
   "outputs": [],
   "source": [
    "test1=lightcurve_data(lc_collection)"
   ]
  },
  {
   "cell_type": "code",
   "execution_count": 6,
   "metadata": {},
   "outputs": [
    {
     "data": {
      "text/plain": [
       "array([0.99998662, 1.0005899 , 1.00038307, ..., 1.00068831, 1.0001861 ,\n",
       "       1.00034873])"
      ]
     },
     "execution_count": 6,
     "metadata": {},
     "output_type": "execute_result"
    }
   ],
   "source": [
    "test1[4]"
   ]
  }
 ],
 "metadata": {
  "kernelspec": {
   "display_name": "base",
   "language": "python",
   "name": "python3"
  },
  "language_info": {
   "codemirror_mode": {
    "name": "ipython",
    "version": 3
   },
   "file_extension": ".py",
   "mimetype": "text/x-python",
   "name": "python",
   "nbconvert_exporter": "python",
   "pygments_lexer": "ipython3",
   "version": "3.9.18"
  },
  "orig_nbformat": 4
 },
 "nbformat": 4,
 "nbformat_minor": 2
}
